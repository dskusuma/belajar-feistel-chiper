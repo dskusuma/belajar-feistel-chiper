{
 "cells": [
  {
   "cell_type": "markdown",
   "metadata": {},
   "source": [
    "## XOR Cipher\n",
    "\n",
    "XOR cipher adalah cipher bertipe \"aditif\". Cipher ini memungkinkan kita mengaplikasikan *key* ke data untuk meng-enkripsinya, kemudian mengaplikasikan *key* yang sama untuk men-dekripsi data yang sudah terenkirpsi tersebut.\n",
    "\n",
    "Operasi ini mengikuti prinsip:\n",
    "1. $ A \\oplus 0 = A$\n",
    "2. $ A \\oplus A = 0$\n",
    "3. $ ( A \\oplus B ) \\oplus C = A \\oplus (B \\oplus C) $\n",
    "4. $ A \\oplus  (A \\oplus B) = B \\oplus 0 = B $\n",
    "\n",
    "Berikut adalah *truth table* operasi XOR:\n",
    "\n",
    "| A | B | Output (C) |\n",
    "|---|---|------------|\n",
    "| 0 | 0 |          0 |\n",
    "| 0 | 1 |          1 |\n",
    "| 1 | 0 |          1 |\n",
    "| 1 | 1 |          0 |\n",
    "\n",
    "\n",
    "### Cara kerja XOR Cipher\n",
    "Misal diketahui:\n",
    "1. $A$ adalah data yang asli.\n",
    "2. $B$ adalah *key*.\n",
    "3. $C$ adalah data yang sudah terenkripsi.\n",
    "\n",
    "Dari prinsip di atas, prinsip ke-3 dapat dikatakan berbunyi:\n",
    "\n",
    "> Data Asli (A) di-XOR dengan *key* (B) kemudian di-XOR lagi dengan data yang sudah dienkripsi (C) sama dengan data yang sudah dienkripsi (C) di-XOR dengan *key* (B) kemudian di-XOR lagi dengan Data yang Asli (A)\n",
    "\n",
    "Berdasarkan pernyataan tersebut, kita mendapatkan:\n",
    "1. $ A = B\\oplus C $\n",
    "2. $ C = B\\oplus A $"
   ]
  },
  {
   "cell_type": "code",
   "execution_count": 6,
   "metadata": {},
   "outputs": [
    {
     "data": {
      "text/plain": [
       "'01001101 01101111 01110010 01100110'"
      ]
     },
     "execution_count": 6,
     "metadata": {},
     "output_type": "execute_result"
    }
   ],
   "source": [
    "st = 'Morf'\n",
    "' '.join(format(ord(i),'b').zfill(8) for i in st)"
   ]
  },
  {
   "cell_type": "code",
   "execution_count": 81,
   "metadata": {},
   "outputs": [
    {
     "name": "stdout",
     "output_type": "stream",
     "text": [
      "01100100 01110111 01101001\n",
      "dwi\n"
     ]
    }
   ],
   "source": [
    "def textToBiner( text ):\n",
    "    st = text\n",
    "    biner = ' '.join(format(ord(i),'b').zfill(8) for i in st)\n",
    "    \n",
    "    # Alternative\n",
    "    # st_bytes = bytes(st, \"ascii\")\n",
    "    # biner = (' '.join([\"{0:b}\".format(x) for x in a_bytes]))\n",
    "    \n",
    "    return biner\n",
    "\n",
    "def binaryToText( binary ):\n",
    "    s = binary.replace(' ', '')\n",
    "    return ''.join(chr(int(s[i*8:i*8+8],2)) for i in range(len(s)//8))\n",
    "\n",
    "text = 'dwi'\n",
    "print( textToBiner( text ) )\n",
    "print( binaryToText( textToBiner( text ) ) )"
   ]
  },
  {
   "cell_type": "markdown",
   "metadata": {},
   "source": []
  }
 ],
 "metadata": {
  "kernelspec": {
   "display_name": "Python 3",
   "language": "python",
   "name": "python3"
  },
  "language_info": {
   "codemirror_mode": {
    "name": "ipython",
    "version": 3
   },
   "file_extension": ".py",
   "mimetype": "text/x-python",
   "name": "python",
   "nbconvert_exporter": "python",
   "pygments_lexer": "ipython3",
   "version": "3.6.5"
  }
 },
 "nbformat": 4,
 "nbformat_minor": 2
}
