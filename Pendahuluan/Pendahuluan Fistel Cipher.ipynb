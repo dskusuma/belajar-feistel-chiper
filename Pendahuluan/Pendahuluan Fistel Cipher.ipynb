{
 "cells": [
  {
   "cell_type": "markdown",
   "metadata": {},
   "source": [
    "## Symmetric Encryption\n",
    "\n",
    "**Symmetric Encryption** (*Enkripsi Simetris*), juga dikenal sebagai enkripsi konvensional atau *single-key encryption*, adalah satu-satunya enkripsi yang digunakan sebelum *public-key encryption* diperkenalkan pada akhir 1970 [1]\n",
    "\n",
    "Skema dari sebuah enkripsi simetris memiliki 5 unsur:\n",
    "1. **Plaintext** (*Teks biasa*): pesan yang asli atau data yang akan diinputkan pada algoritma.\n",
    "2. **Encryption Algorithm** (*Algoritma Enkripsi*): algoritma enkripsi yang melakukan bermacam-macam subtitusi dan transformasi pada *plaintext*.\n",
    "3. **Secret key** (*Kunci-Rahasia*): *secret key* juga salah satu input pada algoritma enkripsi. Transformasi dan substitusi yang dilakukan oleh algoritma bergantung pada *key* ini.\n",
    "4. **Ciphertext** (*Teks sandi*): pesan acak yang merupakan hasil dari algoritma enkripsi. Teks ini bergantung pada *plaintext* dan *secret key* yang digunakan. Untuk *plaintext* yang sama, *key* yang berbeda akan menghasilkan *ciphertext* yang berbeda\n",
    "5. **Decryption Algorithm** (*Algoritma Dekripsi*): pada dasarnya ini adalah algoritma enkripsi yang berjalan secara terbalik. Algoritma ini menggunakan *ciphertext* dan *secret key* untuk menghasilkan *plaintext* yang asli.\n",
    "\n",
    "Ada dua syarat untuk menggunakan enkripsi simetris dengan aman:\n",
    "1. **Gunakan algoritma enkripsi yang kuat**\n",
    "2. **Pengirim dan penerima harus memiliki salinan dari *secret key* dengan cara yang aman dan harus memastikan *key* mereka aman**\n",
    "\n",
    "<img src=\"Simplified Model of Symmetric Encryption.png\" />"
   ]
  },
  {
   "cell_type": "markdown",
   "metadata": {},
   "source": [
    "### Symmetric Block Encryption Algorithms\n",
    "*Block chiper* (Blok-sandi) adalah salah satu algoritma enkripsi simetris yang sering digunakan. Intuisi dari algoritma ini adalah: *block chiper* akan memproses *plaintext* di dalam blok-blok yang memiliki ukuran yang tetap, kemudian menghasilkan sebuah blok dari *ciphertext* dengan ukuran yang sama untuk setiap blok *plaintext*. Algoritma ini memproses *plaintext* yang panjang sebagai kumpulan blok dengan ukuran tetap.\n",
    "\n",
    "Algoritma-algoritma simetris yang penting, di mana semuanya merupakan *ciphertext*, adalah *Data Encryption Standard* (DES), *triple* DES, dan *Advanced Encryption Standard*(AES).\n",
    "\n",
    "<br />\n",
    "<hr />\n",
    "<br />"
   ]
  },
  {
   "cell_type": "markdown",
   "metadata": {},
   "source": [
    "## Prinsip-prinsip *Symmetric Encryption*\n",
    "Berikut adalah prinsip-prinsip yang harus dipahami sebelum membuat enkripsi simetris."
   ]
  },
  {
   "cell_type": "markdown",
   "metadata": {},
   "source": [
    "### Kriptografi\n",
    "Sistem kriptografis secara umum terbagi menjadi 3 bagian yang berdiri sendiri:\n",
    "1. ** Tipe operasi yang digunakan untuk mentransformasi teks-biasa menjadi teks-sandi **\n",
    "\n",
    "    Semua algoritma enkripsi didasarkan pada dua prinsip umum, yaitu substitusi dan transposisi. Pada operasi substitusi setiap elemen di dalam teks-biasa (*bit*, huruf, grup *bit* atau huruf) dipetakan ke elemen yang lain. Sedangkan pada operasi transposisi, setiap elemen di dalam teks-biasa disusun kembali sedemikian rupa (*rearranged*). Syarat paling fundamental dari setiap operasi adalah tidak ada informasi yang hilang, atau dapat dikatakan operasi bersifat *reversible*.\n",
    "    \n",
    "2. ** Jumlah kunci yang digunakan ** \n",
    "    \n",
    "    Jika pengirim dan penerima menggunakan kunci yang sama, sistem dapat disebut simetris, *single-key*, *secret-key*, atau enkripsi konvensional.\n",
    "\n",
    "    Sebaliknya, jike pengirim dan penerima menggunakan kunci yang berbeda, sistem dapat disebut asimetris, *two-key*, atau *public-key encryption*.\n",
    "    \n",
    "3. ** Cara bagaimana teks-biasa diproses **\n",
    "\n",
    "    *Block cipher* memproses setiap masukan satu blok elemen pada satu waktu, menghasilkan sebuah blok keluaran untuk setiap setiap blok masukan.\n",
    "    \n",
    "    Sedangkan *stream cipher* memproses elemen masukan terus menerus, menghasilkan satu elemen pada satu waktu, dan seterusnya."
   ]
  },
  {
   "cell_type": "markdown",
   "metadata": {},
   "source": [
    "### Cryptanalysis\n",
    "*Cryptanalysis* adalah proses untuk mencari tahu *plaintext* atau *key*.\n",
    "\n",
    "Sebuah skema enkripsi secara komputasi aman jika *ciphertext* oleh skema yang memenuhi setidaknya salah satu kriteria berikut:\n",
    "1. *Cost* untuk memecahkan *cipher* (sandi) melebihi nilai dari informasi yang dienkripsi.\n",
    "2. Waktu yang dibutuhkan untuk memecahkan *cipher* (sandi) melebihi masa berlaku informasi."
   ]
  },
  {
   "cell_type": "markdown",
   "metadata": {},
   "source": [
    "### Feistel Cipher\n",
    "#### Struktur\n",
    "*Feistel Cipher* adalah struktur yang dikenalkan oleh Horst Feistel dari IBM pada 1973. Banyak algoritma *symmetric block encryption* yang menggunakan struktur ini (termasuk DES).\n",
    "\n",
    "<img src='Classical Feistel Network.png' />\n",
    "\n",
    "#### Langkah-langkah *Feistel Cipher*\n",
    "Input dari algoritma enkripsi ini adalah blok *plaintext* dengan panjang $2w$ bits dan *key* K.\n",
    "\n",
    "> $f( \\ block\\_plaintext, K \\ )$"
   ]
  },
  {
   "cell_type": "markdown",
   "metadata": {},
   "source": [
    "### Referensi\n",
    "1. Computer Security - Principles and Practices (3rd Edition), William Stallings & Lawrie Brown, 2015"
   ]
  },
  {
   "cell_type": "markdown",
   "metadata": {},
   "source": []
  },
  {
   "cell_type": "code",
   "execution_count": null,
   "metadata": {},
   "outputs": [],
   "source": []
  }
 ],
 "metadata": {
  "kernelspec": {
   "display_name": "Python 3",
   "language": "python",
   "name": "python3"
  },
  "language_info": {
   "codemirror_mode": {
    "name": "ipython",
    "version": 3
   },
   "file_extension": ".py",
   "mimetype": "text/x-python",
   "name": "python",
   "nbconvert_exporter": "python",
   "pygments_lexer": "ipython3",
   "version": "3.6.5"
  }
 },
 "nbformat": 4,
 "nbformat_minor": 2
}
